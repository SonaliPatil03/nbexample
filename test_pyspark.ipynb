{
 "cells": [
  {
   "cell_type": "markdown",
   "metadata": {
    "deletable": false,
    "editable": false,
    "id": "spark_session_creation_info"
   },
   "source": [
    "RUN Following cell to create spark session"
   ]
  },
  {
   "cell_type": "code",
   "execution_count": null,
   "metadata": {
    "deletable": false,
    "editable": false,
    "id": "spark_session_creation"
   },
   "outputs": [],
   "source": [
    "%load_ext sparkmagic.magics\n",
    "%spark encoded -s test_pyspark.ipynb -l python -f eyJzZXNzaW9uX2NvbmZpZ3MiOnsiY29uZiI6e319LCJrZXJuZWxfcHl0aG9uX2NyZWRlbnRpYWxzIjp7ImF1dGgiOiJOb25lIiwidXJsIjoiaHR0cDovLzMuMjM1Ljc1LjM0Ojg5OTgiLCJ1c2VybmFtZSI6IiIsImJhc2U2NF9wYXNzd29yZCI6IiJ9LCJsaXZ5X3Nlc3Npb25fc3RhcnR1cF90aW1lb3V0X3NlY29uZHMiOjE4MCwiaXNQeXRob25LZXJuZWxTZWxlY3RlZCI6dHJ1ZX0="
   ]
  },
  {
   "cell_type": "code",
   "execution_count": null,
   "metadata": {},
   "outputs": [],
   "source": [
    "print(msgs) #'msgs' should be parameterized"
   ]
  },
  {
   "cell_type": "code",
   "execution_count": null,
   "metadata": {},
   "outputs": [],
   "source": [
    "input_file = sc.textFile(\"hdfs:///\" + file) #'file' should be parameterized"
   ]
  },
  {
   "cell_type": "code",
   "execution_count": null,
   "metadata": {},
   "outputs": [],
   "source": [
    "map = input_file.flatMap(lambda line: line.split(\" \")).map(lambda word: (word.encode('ascii','ignore'), 1))"
   ]
  },
  {
   "cell_type": "code",
   "execution_count": null,
   "metadata": {},
   "outputs": [],
   "source": [
    "counts = map.reduceByKey(lambda a, b: a + b)"
   ]
  },
  {
   "cell_type": "code",
   "execution_count": null,
   "metadata": {},
   "outputs": [],
   "source": [
    "for i in counts.take(50):\n",
    "    print(i)"
   ]
  },
  {
   "cell_type": "markdown",
   "metadata": {
    "deletable": false,
    "editable": false,
    "id": "spark_session_kill_info"
   },
   "source": [
    "RUN Following cell to kill spark session "
   ]
  },
  {
   "cell_type": "code",
   "execution_count": null,
   "metadata": {
    "deletable": false,
    "editable": false,
    "id": "spark_session_kill"
   },
   "outputs": [],
   "source": [
    "%spark cleanup "
   ]
  }
 ],
 "metadata": {
  "kernelspec": {
   "display_name": "PySpark",
   "language": "",
   "name": "pysparkkernel"
  },
  "language_info": {
   "codemirror_mode": {
    "name": "python",
    "version": 3
   },
   "mimetype": "text/x-python",
   "name": "pyspark",
   "pygments_lexer": "python3"
  }
 },
 "nbformat": 4,
 "nbformat_minor": 4
}
