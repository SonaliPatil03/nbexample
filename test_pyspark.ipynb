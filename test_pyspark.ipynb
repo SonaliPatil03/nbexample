{
 "cells": [
  {
   "cell_type": "markdown",
   "metadata": {
    "deletable": false,
    "editable": false,
    "id": "spark_session_creation_info"
   },
   "source": [
    "RUN Following cell to create spark session"
   ]
  },
  {
   "cell_type": "code",
   "execution_count": null,
   "metadata": {
    "deletable": false,
    "editable": false,
    "id": "spark_session_creation"
   },
   "outputs": [],
   "source": [
    "%load_ext sparkmagic.magics\n",
    "%spark encoded -s test_pyspark.ipynb -l python -f eyJzZXNzaW9uX2NvbmZpZ3MiOnsiY29uZiI6e319LCJrZXJuZWxfcHl0aG9uX2NyZWRlbnRpYWxzIjp7ImF1dGgiOiJOb25lIiwidXJsIjoiaHR0cDovLzMuMjM1Ljc1LjM0Ojg5OTgiLCJ1c2VybmFtZSI6IiIsImJhc2U2NF9wYXNzd29yZCI6IiJ9LCJsaXZ5X3Nlc3Npb25fc3RhcnR1cF90aW1lb3V0X3NlY29uZHMiOjE4MCwiaXNQeXRob25LZXJuZWxTZWxlY3RlZCI6dHJ1ZX0="
   ]
  },
  {
   "cell_type": "code",
   "execution_count": null,
   "metadata": {},
   "outputs": [],
   "source": []
  },
  {
   "cell_type": "code",
   "execution_count": null,
   "metadata": {},
   "outputs": [],
   "source": []
  }
,
  {
   "cell_type": "markdown",
   "metadata": {
    "deletable": false,
    "editable": false,
    "id": "spark_session_kill_info"
   },
   "source": [
    "RUN Following cell to kill spark session "
   ]
  },
  {
   "cell_type": "code",
   "execution_count": null,
   "metadata": {
    "deletable": false,
    "editable": false,
    "id": "spark_session_kill"
   },
   "outputs": [],
   "source": [
    "%spark cleanup "
   ]
  }
 ],
 "metadata": {
  "kernelspec": {
     "display_name": "PySpark",
     "language": "",
     "name": "pysparkkernel"
    }
 },
 "nbformat": 4,
 "nbformat_minor": 4
}
